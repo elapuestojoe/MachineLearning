{
 "cells": [
  {
   "cell_type": "code",
   "execution_count": 29,
   "metadata": {},
   "outputs": [],
   "source": [
    "import pandas as pd\n",
    "import numpy as np\n",
    "import seaborn as sns\n",
    "import matplotlib.pyplot as plt"
   ]
  },
  {
   "cell_type": "code",
   "execution_count": 33,
   "metadata": {},
   "outputs": [
    {
     "data": {
      "text/html": [
       "<div>\n",
       "<style scoped>\n",
       "    .dataframe tbody tr th:only-of-type {\n",
       "        vertical-align: middle;\n",
       "    }\n",
       "\n",
       "    .dataframe tbody tr th {\n",
       "        vertical-align: top;\n",
       "    }\n",
       "\n",
       "    .dataframe thead th {\n",
       "        text-align: right;\n",
       "    }\n",
       "</style>\n",
       "<table border=\"1\" class=\"dataframe\">\n",
       "  <thead>\n",
       "    <tr style=\"text-align: right;\">\n",
       "      <th></th>\n",
       "      <th>yob</th>\n",
       "      <th>mob</th>\n",
       "      <th>dob</th>\n",
       "      <th>sex</th>\n",
       "      <th>age_unit</th>\n",
       "      <th>age</th>\n",
       "      <th>nation</th>\n",
       "      <th>marital</th>\n",
       "      <th>stateL</th>\n",
       "      <th>countyL</th>\n",
       "      <th>...</th>\n",
       "      <th>year_reg</th>\n",
       "      <th>mon_reg</th>\n",
       "      <th>day_reg</th>\n",
       "      <th>weight</th>\n",
       "      <th>year_cert</th>\n",
       "      <th>mon_cert</th>\n",
       "      <th>day_cert</th>\n",
       "      <th>pregnant</th>\n",
       "      <th>labor_cod</th>\n",
       "      <th>labor_c</th>\n",
       "    </tr>\n",
       "  </thead>\n",
       "  <tbody>\n",
       "    <tr>\n",
       "      <th>0</th>\n",
       "      <td>1918</td>\n",
       "      <td>0</td>\n",
       "      <td>0</td>\n",
       "      <td>1</td>\n",
       "      <td>A</td>\n",
       "      <td>90</td>\n",
       "      <td>1</td>\n",
       "      <td>2</td>\n",
       "      <td>1</td>\n",
       "      <td>1</td>\n",
       "      <td>...</td>\n",
       "      <td>2008</td>\n",
       "      <td>1</td>\n",
       "      <td>8</td>\n",
       "      <td>8888</td>\n",
       "      <td>2008</td>\n",
       "      <td>1</td>\n",
       "      <td>7</td>\n",
       "      <td>8</td>\n",
       "      <td>8</td>\n",
       "      <td>8</td>\n",
       "    </tr>\n",
       "    <tr>\n",
       "      <th>1</th>\n",
       "      <td>1936</td>\n",
       "      <td>0</td>\n",
       "      <td>0</td>\n",
       "      <td>1</td>\n",
       "      <td>A</td>\n",
       "      <td>72</td>\n",
       "      <td>1</td>\n",
       "      <td>2</td>\n",
       "      <td>1</td>\n",
       "      <td>1</td>\n",
       "      <td>...</td>\n",
       "      <td>2008</td>\n",
       "      <td>1</td>\n",
       "      <td>14</td>\n",
       "      <td>8888</td>\n",
       "      <td>2008</td>\n",
       "      <td>1</td>\n",
       "      <td>13</td>\n",
       "      <td>8</td>\n",
       "      <td>8</td>\n",
       "      <td>8</td>\n",
       "    </tr>\n",
       "    <tr>\n",
       "      <th>2</th>\n",
       "      <td>1959</td>\n",
       "      <td>0</td>\n",
       "      <td>0</td>\n",
       "      <td>1</td>\n",
       "      <td>A</td>\n",
       "      <td>49</td>\n",
       "      <td>1</td>\n",
       "      <td>5</td>\n",
       "      <td>33</td>\n",
       "      <td>0</td>\n",
       "      <td>...</td>\n",
       "      <td>2008</td>\n",
       "      <td>1</td>\n",
       "      <td>17</td>\n",
       "      <td>8888</td>\n",
       "      <td>2008</td>\n",
       "      <td>1</td>\n",
       "      <td>12</td>\n",
       "      <td>8</td>\n",
       "      <td>8</td>\n",
       "      <td>8</td>\n",
       "    </tr>\n",
       "    <tr>\n",
       "      <th>3</th>\n",
       "      <td>1929</td>\n",
       "      <td>0</td>\n",
       "      <td>0</td>\n",
       "      <td>2</td>\n",
       "      <td>A</td>\n",
       "      <td>79</td>\n",
       "      <td>1</td>\n",
       "      <td>5</td>\n",
       "      <td>1</td>\n",
       "      <td>1</td>\n",
       "      <td>...</td>\n",
       "      <td>2008</td>\n",
       "      <td>1</td>\n",
       "      <td>21</td>\n",
       "      <td>8888</td>\n",
       "      <td>2008</td>\n",
       "      <td>1</td>\n",
       "      <td>20</td>\n",
       "      <td>8</td>\n",
       "      <td>8</td>\n",
       "      <td>8</td>\n",
       "    </tr>\n",
       "    <tr>\n",
       "      <th>4</th>\n",
       "      <td>1993</td>\n",
       "      <td>0</td>\n",
       "      <td>0</td>\n",
       "      <td>1</td>\n",
       "      <td>A</td>\n",
       "      <td>15</td>\n",
       "      <td>1</td>\n",
       "      <td>1</td>\n",
       "      <td>1</td>\n",
       "      <td>1</td>\n",
       "      <td>...</td>\n",
       "      <td>2008</td>\n",
       "      <td>1</td>\n",
       "      <td>2</td>\n",
       "      <td>8888</td>\n",
       "      <td>2008</td>\n",
       "      <td>1</td>\n",
       "      <td>1</td>\n",
       "      <td>8</td>\n",
       "      <td>8</td>\n",
       "      <td>8</td>\n",
       "    </tr>\n",
       "  </tbody>\n",
       "</table>\n",
       "<p>5 rows × 46 columns</p>\n",
       "</div>"
      ],
      "text/plain": [
       "    yob  mob  dob  sex age_unit  age  nation  marital  stateL  countyL  \\\n",
       "0  1918    0    0    1        A   90       1        2       1        1   \n",
       "1  1936    0    0    1        A   72       1        2       1        1   \n",
       "2  1959    0    0    1        A   49       1        5      33        0   \n",
       "3  1929    0    0    2        A   79       1        5       1        1   \n",
       "4  1993    0    0    1        A   15       1        1       1        1   \n",
       "\n",
       "    ...     year_reg  mon_reg  day_reg  weight  year_cert  mon_cert  day_cert  \\\n",
       "0   ...         2008        1        8    8888       2008         1         7   \n",
       "1   ...         2008        1       14    8888       2008         1        13   \n",
       "2   ...         2008        1       17    8888       2008         1        12   \n",
       "3   ...         2008        1       21    8888       2008         1        20   \n",
       "4   ...         2008        1        2    8888       2008         1         1   \n",
       "\n",
       "   pregnant  labor_cod  labor_c  \n",
       "0         8          8        8  \n",
       "1         8          8        8  \n",
       "2         8          8        8  \n",
       "3         8          8        8  \n",
       "4         8          8        8  \n",
       "\n",
       "[5 rows x 46 columns]"
      ]
     },
     "execution_count": 33,
     "metadata": {},
     "output_type": "execute_result"
    }
   ],
   "source": [
    "dataset = pd.read_csv(\"../data/deaths08.csv\")\n",
    "dataset.head()"
   ]
  },
  {
   "cell_type": "code",
   "execution_count": 34,
   "metadata": {},
   "outputs": [
    {
     "data": {
      "text/plain": [
       "array([20, 14, 10, 15, 22,  1,  4, 18, 17, 21, 13,  3,  6, 23,  9,  5, 16,\n",
       "       12,  0, 11,  7, 19,  8,  2, 24, 99], dtype=int64)"
      ]
     },
     "execution_count": 34,
     "metadata": {},
     "output_type": "execute_result"
    }
   ],
   "source": [
    "dataset.hod.unique()"
   ]
  },
  {
   "cell_type": "code",
   "execution_count": 35,
   "metadata": {},
   "outputs": [],
   "source": [
    "dataset[\"hod\"].replace(to_replace=99, value=np.nan, inplace=True)\n",
    "dataset[\"hod\"].replace(to_replace=0, value=24, inplace=True)\n",
    "# dataset[\"hod\"].replace(to_replace=24, value=np.nan, inplace=True)"
   ]
  },
  {
   "cell_type": "code",
   "execution_count": 36,
   "metadata": {},
   "outputs": [
    {
     "data": {
      "text/plain": [
       "array([20., 14., 10., 15., 22.,  1.,  4., 18., 17., 21., 13.,  3.,  6.,\n",
       "       23.,  9.,  5., 16., 12., 24., 11.,  7., 19.,  8.,  2., nan])"
      ]
     },
     "execution_count": 36,
     "metadata": {},
     "output_type": "execute_result"
    }
   ],
   "source": [
    "dataset.hod.unique()"
   ]
  },
  {
   "cell_type": "code",
   "execution_count": 37,
   "metadata": {},
   "outputs": [
    {
     "data": {
      "text/plain": [
       "array([2008, 2007, 2000,    0, 2005, 2006, 2004, 1991, 1931, 1992, 2002,\n",
       "       2003, 1995, 1996, 1997, 2001, 1999, 1993, 1998, 1983, 1979, 1930,\n",
       "       1988, 1984, 1978, 1975, 1982, 1977, 1986, 1994, 1990, 1964, 1985,\n",
       "       1944, 1989, 1955, 1980, 1950, 1966, 1968, 1981, 1976, 1962, 1941,\n",
       "       1953, 1987, 1954, 1961, 1934, 1973, 1970, 1972, 1929, 1935, 1939,\n",
       "       1947, 1943, 1965, 1958, 1952, 1967, 1969, 1974, 1926, 1971, 1942,\n",
       "       1945, 1923, 1940, 1957, 1956, 1948, 1920, 1959, 1938, 1928, 1921,\n",
       "       1936, 1932, 1960, 1907], dtype=int64)"
      ]
     },
     "execution_count": 37,
     "metadata": {},
     "output_type": "execute_result"
    }
   ],
   "source": [
    "dataset.yod.unique()"
   ]
  },
  {
   "cell_type": "code",
   "execution_count": 38,
   "metadata": {
    "scrolled": true
   },
   "outputs": [
    {
     "name": "stdout",
     "output_type": "stream",
     "text": [
      "539530\n"
     ]
    },
    {
     "data": {
      "text/html": [
       "<div>\n",
       "<style scoped>\n",
       "    .dataframe tbody tr th:only-of-type {\n",
       "        vertical-align: middle;\n",
       "    }\n",
       "\n",
       "    .dataframe tbody tr th {\n",
       "        vertical-align: top;\n",
       "    }\n",
       "\n",
       "    .dataframe thead th {\n",
       "        text-align: right;\n",
       "    }\n",
       "</style>\n",
       "<table border=\"1\" class=\"dataframe\">\n",
       "  <thead>\n",
       "    <tr style=\"text-align: right;\">\n",
       "      <th></th>\n",
       "      <th>yob</th>\n",
       "      <th>mob</th>\n",
       "      <th>dob</th>\n",
       "      <th>sex</th>\n",
       "      <th>age_unit</th>\n",
       "      <th>age</th>\n",
       "      <th>nation</th>\n",
       "      <th>marital</th>\n",
       "      <th>stateL</th>\n",
       "      <th>countyL</th>\n",
       "      <th>...</th>\n",
       "      <th>year_reg</th>\n",
       "      <th>mon_reg</th>\n",
       "      <th>day_reg</th>\n",
       "      <th>weight</th>\n",
       "      <th>year_cert</th>\n",
       "      <th>mon_cert</th>\n",
       "      <th>day_cert</th>\n",
       "      <th>pregnant</th>\n",
       "      <th>labor_cod</th>\n",
       "      <th>labor_c</th>\n",
       "    </tr>\n",
       "  </thead>\n",
       "  <tbody>\n",
       "    <tr>\n",
       "      <th>0</th>\n",
       "      <td>1918</td>\n",
       "      <td>0</td>\n",
       "      <td>0</td>\n",
       "      <td>1</td>\n",
       "      <td>A</td>\n",
       "      <td>90</td>\n",
       "      <td>1</td>\n",
       "      <td>2</td>\n",
       "      <td>1</td>\n",
       "      <td>1</td>\n",
       "      <td>...</td>\n",
       "      <td>2008</td>\n",
       "      <td>1</td>\n",
       "      <td>8</td>\n",
       "      <td>8888</td>\n",
       "      <td>2008</td>\n",
       "      <td>1</td>\n",
       "      <td>7</td>\n",
       "      <td>8</td>\n",
       "      <td>8</td>\n",
       "      <td>8</td>\n",
       "    </tr>\n",
       "    <tr>\n",
       "      <th>1</th>\n",
       "      <td>1936</td>\n",
       "      <td>0</td>\n",
       "      <td>0</td>\n",
       "      <td>1</td>\n",
       "      <td>A</td>\n",
       "      <td>72</td>\n",
       "      <td>1</td>\n",
       "      <td>2</td>\n",
       "      <td>1</td>\n",
       "      <td>1</td>\n",
       "      <td>...</td>\n",
       "      <td>2008</td>\n",
       "      <td>1</td>\n",
       "      <td>14</td>\n",
       "      <td>8888</td>\n",
       "      <td>2008</td>\n",
       "      <td>1</td>\n",
       "      <td>13</td>\n",
       "      <td>8</td>\n",
       "      <td>8</td>\n",
       "      <td>8</td>\n",
       "    </tr>\n",
       "    <tr>\n",
       "      <th>2</th>\n",
       "      <td>1959</td>\n",
       "      <td>0</td>\n",
       "      <td>0</td>\n",
       "      <td>1</td>\n",
       "      <td>A</td>\n",
       "      <td>49</td>\n",
       "      <td>1</td>\n",
       "      <td>5</td>\n",
       "      <td>33</td>\n",
       "      <td>0</td>\n",
       "      <td>...</td>\n",
       "      <td>2008</td>\n",
       "      <td>1</td>\n",
       "      <td>17</td>\n",
       "      <td>8888</td>\n",
       "      <td>2008</td>\n",
       "      <td>1</td>\n",
       "      <td>12</td>\n",
       "      <td>8</td>\n",
       "      <td>8</td>\n",
       "      <td>8</td>\n",
       "    </tr>\n",
       "    <tr>\n",
       "      <th>3</th>\n",
       "      <td>1929</td>\n",
       "      <td>0</td>\n",
       "      <td>0</td>\n",
       "      <td>2</td>\n",
       "      <td>A</td>\n",
       "      <td>79</td>\n",
       "      <td>1</td>\n",
       "      <td>5</td>\n",
       "      <td>1</td>\n",
       "      <td>1</td>\n",
       "      <td>...</td>\n",
       "      <td>2008</td>\n",
       "      <td>1</td>\n",
       "      <td>21</td>\n",
       "      <td>8888</td>\n",
       "      <td>2008</td>\n",
       "      <td>1</td>\n",
       "      <td>20</td>\n",
       "      <td>8</td>\n",
       "      <td>8</td>\n",
       "      <td>8</td>\n",
       "    </tr>\n",
       "    <tr>\n",
       "      <th>4</th>\n",
       "      <td>1993</td>\n",
       "      <td>0</td>\n",
       "      <td>0</td>\n",
       "      <td>1</td>\n",
       "      <td>A</td>\n",
       "      <td>15</td>\n",
       "      <td>1</td>\n",
       "      <td>1</td>\n",
       "      <td>1</td>\n",
       "      <td>1</td>\n",
       "      <td>...</td>\n",
       "      <td>2008</td>\n",
       "      <td>1</td>\n",
       "      <td>2</td>\n",
       "      <td>8888</td>\n",
       "      <td>2008</td>\n",
       "      <td>1</td>\n",
       "      <td>1</td>\n",
       "      <td>8</td>\n",
       "      <td>8</td>\n",
       "      <td>8</td>\n",
       "    </tr>\n",
       "  </tbody>\n",
       "</table>\n",
       "<p>5 rows × 46 columns</p>\n",
       "</div>"
      ],
      "text/plain": [
       "    yob  mob  dob  sex age_unit  age  nation  marital  stateL  countyL  \\\n",
       "0  1918    0    0    1        A   90       1        2       1        1   \n",
       "1  1936    0    0    1        A   72       1        2       1        1   \n",
       "2  1959    0    0    1        A   49       1        5      33        0   \n",
       "3  1929    0    0    2        A   79       1        5       1        1   \n",
       "4  1993    0    0    1        A   15       1        1       1        1   \n",
       "\n",
       "    ...     year_reg  mon_reg  day_reg  weight  year_cert  mon_cert  day_cert  \\\n",
       "0   ...         2008        1        8    8888       2008         1         7   \n",
       "1   ...         2008        1       14    8888       2008         1        13   \n",
       "2   ...         2008        1       17    8888       2008         1        12   \n",
       "3   ...         2008        1       21    8888       2008         1        20   \n",
       "4   ...         2008        1        2    8888       2008         1         1   \n",
       "\n",
       "   pregnant  labor_cod  labor_c  \n",
       "0         8          8        8  \n",
       "1         8          8        8  \n",
       "2         8          8        8  \n",
       "3         8          8        8  \n",
       "4         8          8        8  \n",
       "\n",
       "[5 rows x 46 columns]"
      ]
     },
     "execution_count": 38,
     "metadata": {},
     "output_type": "execute_result"
    }
   ],
   "source": [
    "subset = dataset.loc[(dataset['yod'] == 2008) & (dataset['mod'] != 0) & (dataset[\"dod\"] != 0) & dataset[\"hod\"] != np.nan]\n",
    "print(len(subset))\n",
    "subset.head()"
   ]
  },
  {
   "cell_type": "code",
   "execution_count": 39,
   "metadata": {},
   "outputs": [
    {
     "data": {
      "text/plain": [
       "array([2008, 2007, 2000,    0, 2005, 2006, 2004, 1991, 1931, 1992, 2002,\n",
       "       2003, 1995, 1996, 1997, 2001, 1999, 1993, 1998, 1983, 1979, 1930,\n",
       "       1988, 1984, 1978, 1975, 1982, 1977, 1986, 1994, 1990, 1964, 1985,\n",
       "       1944, 1989, 1955, 1980, 1950, 1966, 1968, 1981, 1976, 1962, 1941,\n",
       "       1953, 1987, 1954, 1961, 1934, 1973, 1970, 1972, 1929, 1935, 1939,\n",
       "       1947, 1943, 1965, 1958, 1952, 1967, 1969, 1974, 1926, 1971, 1942,\n",
       "       1945, 1923, 1940, 1957, 1956, 1948, 1920, 1959, 1938, 1928, 1921,\n",
       "       1936, 1932, 1960, 1907], dtype=int64)"
      ]
     },
     "execution_count": 39,
     "metadata": {},
     "output_type": "execute_result"
    }
   ],
   "source": [
    "subset.yod.unique()"
   ]
  },
  {
   "cell_type": "code",
   "execution_count": 40,
   "metadata": {},
   "outputs": [
    {
     "data": {
      "text/plain": [
       "(15000, 25599.0)"
      ]
     },
     "execution_count": 40,
     "metadata": {},
     "output_type": "execute_result"
    },
    {
     "data": {
      "image/png": "[encoded data removed]",
      "text/plain": [
       "<Figure size 1440x720 with 1 Axes>"
      ]
     },
     "metadata": {
      "needs_background": "light"
     },
     "output_type": "display_data"
    }
   ],
   "source": [
    "plt.figure(figsize=(20,10))\n",
    "ax = sns.countplot(x=\"hod\", data=subset)\n",
    "ax.set_ylim(bottom=15000)"
   ]
  },
  {
   "cell_type": "code",
   "execution_count": 45,
   "metadata": {},
   "outputs": [
    {
     "data": {
      "image/png": "[encoded data removed]",
      "text/plain": [
       "<Figure size 1440x720 with 1 Axes>"
      ]
     },
     "metadata": {
      "needs_background": "light"
     },
     "output_type": "display_data"
    }
   ],
   "source": [
    "plt.figure(figsize=(20,10))\n",
    "ax = sns.countplot(x=\"cod\", data=subset, order=subset.cod.value_counts().iloc[:20].index)"
   ]
  }
 ],
 "metadata": {
  "kernelspec": {
   "display_name": "Python 3",
   "language": "python",
   "name": "python3"
  },
  "language_info": {
   "codemirror_mode": {
    "name": "ipython",
    "version": 3
   },
   "file_extension": ".py",
   "mimetype": "text/x-python",
   "name": "python",
   "nbconvert_exporter": "python",
   "pygments_lexer": "ipython3",
   "version": "3.6.7"
  }
 },
 "nbformat": 4,
 "nbformat_minor": 2
}
